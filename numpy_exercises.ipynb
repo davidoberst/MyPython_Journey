{
 "cells": [
  {
   "cell_type": "code",
   "execution_count": 2,
   "id": "3dd0f561",
   "metadata": {},
   "outputs": [],
   "source": [
    "import numpy as np"
   ]
  },
  {
   "cell_type": "markdown",
   "id": "add82161",
   "metadata": {},
   "source": [
    "1. Crear un vector de ceros de tamaño 10"
   ]
  },
  {
   "cell_type": "code",
   "execution_count": 3,
   "id": "b13e5f90",
   "metadata": {},
   "outputs": [
    {
     "name": "stdout",
     "output_type": "stream",
     "text": [
      "[0. 0. 0. 0. 0. 0. 0. 0. 0. 0.]\n"
     ]
    }
   ],
   "source": [
    "zeros = np.zeros(10)\n",
    "print(zeros)"
   ]
  },
  {
   "cell_type": "markdown",
   "id": "c30f9d6b",
   "metadata": {},
   "source": [
    "Crea un vector de unos de tamaño 8."
   ]
  },
  {
   "cell_type": "code",
   "execution_count": 4,
   "id": "f2393ddf",
   "metadata": {},
   "outputs": [
    {
     "name": "stdout",
     "output_type": "stream",
     "text": [
      "[1. 1. 1. 1. 1. 1. 1. 1.]\n"
     ]
    }
   ],
   "source": [
    "x = np.ones(8)\n",
    "print(x)"
   ]
  },
  {
   "cell_type": "markdown",
   "id": "9ff57f45",
   "metadata": {},
   "source": [
    "Crea un vector con los números del 10 al 20 (inclusive)."
   ]
  },
  {
   "cell_type": "code",
   "execution_count": 5,
   "id": "1f73995a",
   "metadata": {},
   "outputs": [
    {
     "name": "stdout",
     "output_type": "stream",
     "text": [
      "[10 11 12 13 14 15 16 17 18 19 20]\n"
     ]
    }
   ],
   "source": [
    "s = np.arange(10,21)\n",
    "print(s)"
   ]
  },
  {
   "cell_type": "markdown",
   "id": "711ad666",
   "metadata": {},
   "source": [
    "Crea un array con 7 números equiespaciados entre 0 y 1."
   ]
  },
  {
   "cell_type": "code",
   "execution_count": 6,
   "id": "70ddf684",
   "metadata": {},
   "outputs": [
    {
     "name": "stdout",
     "output_type": "stream",
     "text": [
      "[0.         0.16666667 0.33333333 0.5        0.66666667 0.83333333\n",
      " 1.        ]\n"
     ]
    }
   ],
   "source": [
    "d = np.linspace(0,1,7)\n",
    "print(d)"
   ]
  },
  {
   "cell_type": "markdown",
   "id": "d2dcda31",
   "metadata": {},
   "source": [
    "Crea una matriz 3×3 llena de 5."
   ]
  },
  {
   "cell_type": "code",
   "execution_count": 7,
   "id": "31bd010e",
   "metadata": {},
   "outputs": [
    {
     "name": "stdout",
     "output_type": "stream",
     "text": [
      "[[5 5 5]\n",
      " [5 5 5]\n",
      " [5 5 5]]\n"
     ]
    }
   ],
   "source": [
    "m = np.full((3,3),5)\n",
    "print(m)"
   ]
  },
  {
   "cell_type": "markdown",
   "id": "9f6cc521",
   "metadata": {},
   "source": [
    "Crea una matriz identidad de 5×5."
   ]
  },
  {
   "cell_type": "code",
   "execution_count": 8,
   "id": "a8c052ca",
   "metadata": {},
   "outputs": [
    {
     "name": "stdout",
     "output_type": "stream",
     "text": [
      "[[1. 0. 0. 0. 0.]\n",
      " [0. 1. 0. 0. 0.]\n",
      " [0. 0. 1. 0. 0.]\n",
      " [0. 0. 0. 1. 0.]\n",
      " [0. 0. 0. 0. 1.]]\n"
     ]
    }
   ],
   "source": [
    "q = np.eye(5,5)\n",
    "print(q)"
   ]
  },
  {
   "cell_type": "markdown",
   "id": "6a80951f",
   "metadata": {},
   "source": [
    "Crea una matriz 4×3 con números enteros aleatorios entre 0 y 50."
   ]
  },
  {
   "cell_type": "code",
   "execution_count": 9,
   "id": "5cc36c62",
   "metadata": {},
   "outputs": [
    {
     "name": "stdout",
     "output_type": "stream",
     "text": [
      "[[40 30 33]\n",
      " [24 22 20]\n",
      " [ 5 25 44]\n",
      " [45  1  5]]\n"
     ]
    }
   ],
   "source": [
    "ax = np.random.randint(0,50,(4,3))\n",
    "print(ax)"
   ]
  },
  {
   "cell_type": "markdown",
   "id": "810f8223",
   "metadata": {},
   "source": [
    "Crea una matriz 2×6 con números aleatorios entre 0 y 1."
   ]
  },
  {
   "cell_type": "code",
   "execution_count": 10,
   "id": "aa95faea",
   "metadata": {},
   "outputs": [
    {
     "name": "stdout",
     "output_type": "stream",
     "text": [
      "[[0 0 0 0 0 0]\n",
      " [0 0 0 0 0 0]]\n"
     ]
    }
   ],
   "source": [
    "xx = np.random.randint(0,1,(2,6))\n",
    "print(xx)"
   ]
  },
  {
   "cell_type": "markdown",
   "id": "82fff29a",
   "metadata": {},
   "source": [
    "Crea un array de 15 elementos del 1 al 15 y reorganízalo en una matriz 3×5."
   ]
  },
  {
   "cell_type": "code",
   "execution_count": 16,
   "id": "27e58c8f",
   "metadata": {},
   "outputs": [
    {
     "name": "stdout",
     "output_type": "stream",
     "text": [
      "[ 1  2  3  4  5  6  7  8  9 10 11 12 13 14 15]\n",
      "[[ 1  2  3  4  5]\n",
      " [ 6  7  8  9 10]\n",
      " [11 12 13 14 15]]\n"
     ]
    }
   ],
   "source": [
    "arr1 = np.arange(1,16)\n",
    "print(arr1)\n",
    "arr_reshaped = arr1.reshape(3,5)\n",
    "print(arr_reshaped)"
   ]
  },
  {
   "cell_type": "markdown",
   "id": "d3e6a0cd",
   "metadata": {},
   "source": [
    "Crea un array con los múltiplos de 3 desde 0 hasta 30."
   ]
  },
  {
   "cell_type": "code",
   "execution_count": null,
   "id": "eade755c",
   "metadata": {},
   "outputs": [
    {
     "name": "stdout",
     "output_type": "stream",
     "text": [
      "[ 0  3  6  9 12 15 18 21 24 27 30 33 36 39]\n"
     ]
    }
   ],
   "source": [
    "arr = np.arange(0,31,3)\n",
    "print(arr)"
   ]
  }
 ],
 "metadata": {
  "kernelspec": {
   "display_name": "Python 3",
   "language": "python",
   "name": "python3"
  },
  "language_info": {
   "codemirror_mode": {
    "name": "ipython",
    "version": 3
   },
   "file_extension": ".py",
   "mimetype": "text/x-python",
   "name": "python",
   "nbconvert_exporter": "python",
   "pygments_lexer": "ipython3",
   "version": "3.13.7"
  }
 },
 "nbformat": 4,
 "nbformat_minor": 5
}
