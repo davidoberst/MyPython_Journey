{
 "cells": [
  {
   "cell_type": "code",
   "execution_count": 1,
   "id": "3dd0f561",
   "metadata": {},
   "outputs": [],
   "source": [
    "import numpy as np"
   ]
  },
  {
   "cell_type": "markdown",
   "id": "add82161",
   "metadata": {},
   "source": [
    "1. Crear un vector de ceros de tamaño 10"
   ]
  },
  {
   "cell_type": "code",
   "execution_count": 2,
   "id": "b13e5f90",
   "metadata": {},
   "outputs": [
    {
     "name": "stdout",
     "output_type": "stream",
     "text": [
      "[0. 0. 0. 0. 0. 0. 0. 0. 0. 0.]\n"
     ]
    }
   ],
   "source": [
    "zeros = np.zeros(10)\n",
    "print(zeros)"
   ]
  },
  {
   "cell_type": "markdown",
   "id": "c30f9d6b",
   "metadata": {},
   "source": [
    "Crea un vector de unos de tamaño 8."
   ]
  },
  {
   "cell_type": "code",
   "execution_count": 3,
   "id": "f2393ddf",
   "metadata": {},
   "outputs": [
    {
     "name": "stdout",
     "output_type": "stream",
     "text": [
      "[1. 1. 1. 1. 1. 1. 1. 1.]\n"
     ]
    }
   ],
   "source": [
    "x = np.ones(8)\n",
    "print(x)"
   ]
  },
  {
   "cell_type": "markdown",
   "id": "9ff57f45",
   "metadata": {},
   "source": [
    "Crea un vector con los números del 10 al 20 (inclusive)."
   ]
  },
  {
   "cell_type": "code",
   "execution_count": 4,
   "id": "1f73995a",
   "metadata": {},
   "outputs": [
    {
     "name": "stdout",
     "output_type": "stream",
     "text": [
      "[10 11 12 13 14 15 16 17 18 19 20]\n"
     ]
    }
   ],
   "source": [
    "s = np.arange(10,21)\n",
    "print(s)"
   ]
  },
  {
   "cell_type": "markdown",
   "id": "711ad666",
   "metadata": {},
   "source": [
    "Crea un array con 7 números equiespaciados entre 0 y 1."
   ]
  },
  {
   "cell_type": "code",
   "execution_count": 5,
   "id": "70ddf684",
   "metadata": {},
   "outputs": [
    {
     "name": "stdout",
     "output_type": "stream",
     "text": [
      "[0.         0.16666667 0.33333333 0.5        0.66666667 0.83333333\n",
      " 1.        ]\n"
     ]
    }
   ],
   "source": [
    "d = np.linspace(0,1,7)\n",
    "print(d)"
   ]
  },
  {
   "cell_type": "markdown",
   "id": "d2dcda31",
   "metadata": {},
   "source": [
    "Crea una matriz 3×3 llena de 5."
   ]
  },
  {
   "cell_type": "code",
   "execution_count": 6,
   "id": "31bd010e",
   "metadata": {},
   "outputs": [
    {
     "name": "stdout",
     "output_type": "stream",
     "text": [
      "[[5 5 5]\n",
      " [5 5 5]\n",
      " [5 5 5]]\n"
     ]
    }
   ],
   "source": [
    "m = np.full((3,3),5)\n",
    "print(m)"
   ]
  },
  {
   "cell_type": "markdown",
   "id": "9f6cc521",
   "metadata": {},
   "source": [
    "Crea una matriz identidad de 5×5."
   ]
  },
  {
   "cell_type": "code",
   "execution_count": 7,
   "id": "a8c052ca",
   "metadata": {},
   "outputs": [
    {
     "name": "stdout",
     "output_type": "stream",
     "text": [
      "[[1. 0. 0. 0. 0.]\n",
      " [0. 1. 0. 0. 0.]\n",
      " [0. 0. 1. 0. 0.]\n",
      " [0. 0. 0. 1. 0.]\n",
      " [0. 0. 0. 0. 1.]]\n"
     ]
    }
   ],
   "source": [
    "q = np.eye(5,5)\n",
    "print(q)"
   ]
  },
  {
   "cell_type": "markdown",
   "id": "6a80951f",
   "metadata": {},
   "source": [
    "Crea una matriz 4×3 con números enteros aleatorios entre 0 y 50."
   ]
  },
  {
   "cell_type": "code",
   "execution_count": 8,
   "id": "5cc36c62",
   "metadata": {},
   "outputs": [
    {
     "name": "stdout",
     "output_type": "stream",
     "text": [
      "[[33 28 35]\n",
      " [22  9  9]\n",
      " [43 14 20]\n",
      " [46 45 20]]\n"
     ]
    }
   ],
   "source": [
    "ax = np.random.randint(0,50,(4,3))\n",
    "print(ax)"
   ]
  },
  {
   "cell_type": "markdown",
   "id": "810f8223",
   "metadata": {},
   "source": [
    "Crea una matriz 2×6 con números aleatorios entre 0 y 1."
   ]
  },
  {
   "cell_type": "code",
   "execution_count": 9,
   "id": "aa95faea",
   "metadata": {},
   "outputs": [
    {
     "name": "stdout",
     "output_type": "stream",
     "text": [
      "[[0 0 0 0 0 0]\n",
      " [0 0 0 0 0 0]]\n"
     ]
    }
   ],
   "source": [
    "xx = np.random.randint(0,1,(2,6))\n",
    "print(xx)"
   ]
  },
  {
   "cell_type": "markdown",
   "id": "82fff29a",
   "metadata": {},
   "source": [
    "Crea un array de 15 elementos del 1 al 15 y reorganízalo en una matriz 3×5."
   ]
  },
  {
   "cell_type": "code",
   "execution_count": 10,
   "id": "27e58c8f",
   "metadata": {},
   "outputs": [
    {
     "name": "stdout",
     "output_type": "stream",
     "text": [
      "[ 1  2  3  4  5  6  7  8  9 10 11 12 13 14 15]\n",
      "[[ 1  2  3  4  5]\n",
      " [ 6  7  8  9 10]\n",
      " [11 12 13 14 15]]\n"
     ]
    }
   ],
   "source": [
    "arr1 = np.arange(1,16)\n",
    "print(arr1)\n",
    "arr_reshaped = arr1.reshape(3,5)\n",
    "print(arr_reshaped)"
   ]
  },
  {
   "cell_type": "markdown",
   "id": "d3e6a0cd",
   "metadata": {},
   "source": [
    "Crea un array con los múltiplos de 3 desde 0 hasta 30."
   ]
  },
  {
   "cell_type": "code",
   "execution_count": 11,
   "id": "eade755c",
   "metadata": {},
   "outputs": [
    {
     "name": "stdout",
     "output_type": "stream",
     "text": [
      "[ 0  3  6  9 12 15 18 21 24 27 30]\n"
     ]
    }
   ],
   "source": [
    "arr = np.arange(0,31,3)\n",
    "print(arr)"
   ]
  },
  {
   "cell_type": "markdown",
   "id": "32bb1e00",
   "metadata": {},
   "source": [
    "🧠 Mini Reto\n",
    "\n",
    "1️⃣ Crea un array con los números del 1 al 12.\n",
    "2️⃣ Reorganízalo en una matriz 3×4.\n",
    "3️⃣ Imprime:\n",
    "\n",
    "Su forma (shape)\n",
    "\n",
    "Su número de dimensiones (ndim)\n",
    "\n",
    "Su tipo de datos (dtype)\n",
    "\n",
    "Su tamaño total (size)\n",
    "\n",
    "Su transpuesta (T)"
   ]
  },
  {
   "cell_type": "code",
   "execution_count": 12,
   "id": "f722e735",
   "metadata": {},
   "outputs": [
    {
     "name": "stdout",
     "output_type": "stream",
     "text": [
      "[[ 1  2  3  4]\n",
      " [ 5  6  7  8]\n",
      " [ 9 10 11 12]]\n",
      "(12,)\n",
      "int64\n",
      "1\n",
      "12\n",
      "[ 1  2  3  4  5  6  7  8  9 10 11 12]\n"
     ]
    }
   ],
   "source": [
    "a = np.arange(1,13)\n",
    "print(a.reshape(3,4))\n",
    "print(a.shape)\n",
    "print(a.dtype)\n",
    "print(a.ndim)\n",
    "print(a.size)\n",
    "print(a.T)"
   ]
  },
  {
   "cell_type": "markdown",
   "id": "bf47a23e",
   "metadata": {},
   "source": [
    "\n",
    " # 🧠 MINI RETO — NIVEL 3\n",
    "\n",
    "1️⃣ Crea una matriz 4×4 con los números del 0 al 15.\n",
    "2️⃣ Extrae:\n",
    "\n",
    "La segunda fila.\n",
    "\n",
    "La tercera columna.\n",
    "\n",
    "El subarray central (2×2).\n",
    "\n",
    "3️⃣ Reemplaza el subarray central por ceros.\n",
    "\n",
    "4️⃣ Usa indexado booleano para mostrar solo los valores mayores que 10."
   ]
  },
  {
   "cell_type": "code",
   "execution_count": null,
   "id": "5d8a9a49",
   "metadata": {},
   "outputs": [
    {
     "name": "stdout",
     "output_type": "stream",
     "text": [
      "[[ 0  1  2  3]\n",
      " [ 4  5  6  7]\n",
      " [ 8  9 10 11]\n",
      " [12 13 14 15]]\n",
      "\n",
      " Segunda fila : [4 5 6 7]\n",
      "\n",
      " Tercera Columna : [ 3  7 11 15]\n",
      "\n",
      " Subarray central : [[ 5  6]\n",
      " [ 9 10]]\n",
      "\n",
      " Subarray central convertido a ceros : [[0 0]\n",
      " [0 0]]\n",
      "\n",
      " Indexado boleano : [[False False False False]\n",
      " [False False False False]\n",
      " [False False False  True]\n",
      " [ True  True  True  True]]\n"
     ]
    }
   ],
   "source": [
    "#matrix 4*4\n",
    "mt = np.arange(0,16)\n",
    "d = mt.reshape(4,4)\n",
    "print(d)\n",
    "\n",
    "#extraer la segunda fila\n",
    "print(f\"\\n Segunda fila : {d[1]}\")\n",
    "\n",
    "#extraer la tercera columna\n",
    "print(f\"\\n Tercera Columna : {d[:,3]}\")\n",
    "\n",
    "\n",
    "#extraer el subarray central 2*2\n",
    "sub = d[1:3,1:3].copy()\n",
    "print(f\"\\n Subarray central : {sub}\")\n",
    "#Convertir el subarray en ceros\n",
    "sub[:] = 0\n",
    "print(f\"\\n Subarray central convertido a ceros : {sub}\")\n",
    "\n",
    "#Usa indexado booleano para mostrar solo los valores mayores que 10.\n",
    "boleanIndex = d > 10\n",
    "print(f\"\\n Indexado boleano : {boleanIndex}\")\n",
    "print(d[boleanIndex])\n",
    "\n"
   ]
  }
 ],
 "metadata": {
  "kernelspec": {
   "display_name": "Python 3",
   "language": "python",
   "name": "python3"
  },
  "language_info": {
   "codemirror_mode": {
    "name": "ipython",
    "version": 3
   },
   "file_extension": ".py",
   "mimetype": "text/x-python",
   "name": "python",
   "nbconvert_exporter": "python",
   "pygments_lexer": "ipython3",
   "version": "3.13.7"
  }
 },
 "nbformat": 4,
 "nbformat_minor": 5
}
