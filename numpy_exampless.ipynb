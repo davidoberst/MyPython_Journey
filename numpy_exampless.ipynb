{
 "cells": [
  {
   "cell_type": "code",
   "execution_count": 16,
   "id": "e39198a2",
   "metadata": {},
   "outputs": [
    {
     "name": "stdout",
     "output_type": "stream",
     "text": [
      "[1 2 3 4 5]\n"
     ]
    }
   ],
   "source": [
    "import numpy as np\n",
    "\n",
    "#Crear un Array\n",
    "arr = np.array([1, 2, 3, 4, 5])\n",
    "print(arr)\n"
   ]
  },
  {
   "cell_type": "code",
   "execution_count": 17,
   "id": "b2a91599",
   "metadata": {},
   "outputs": [
    {
     "name": "stdout",
     "output_type": "stream",
     "text": [
      "[0. 0. 0. 0. 0. 0. 0. 0. 0. 0.]\n"
     ]
    }
   ],
   "source": [
    "\n",
    "#Crear un Array con ceros y unos \n",
    "zeros = np.zeros(10) #el parametro son el numero de ceros que tendra\n",
    "print(zeros)"
   ]
  },
  {
   "cell_type": "markdown",
   "id": "a92a27cf",
   "metadata": {},
   "source": [
    "Para generar una matriz se usa ((filas,columnas))"
   ]
  },
  {
   "cell_type": "code",
   "execution_count": 18,
   "id": "3b6de755",
   "metadata": {},
   "outputs": [
    {
     "name": "stdout",
     "output_type": "stream",
     "text": [
      "\n",
      " matriz de unos:[[1. 1. 1.]\n",
      " [1. 1. 1.]]\n",
      "\n",
      " matriz de ceros:[[0. 0. 0.]\n",
      " [0. 0. 0.]\n",
      " [0. 0. 0.]]\n"
     ]
    }
   ],
   "source": [
    "#Crear Matrices\n",
    "ones = np.ones((2, 3))  #ones es para generar solo el numero uno\n",
    "zeros = np.zeros((3,3)) #matriz de 3x3\n",
    "print(f\"\\n matriz de unos:{ones}\")\n",
    "print(f\"\\n matriz de ceros:{zeros}\")\n"
   ]
  },
  {
   "cell_type": "code",
   "execution_count": 19,
   "id": "971a1068",
   "metadata": {},
   "outputs": [
    {
     "name": "stdout",
     "output_type": "stream",
     "text": [
      "[1 2 3 4 5]\n"
     ]
    }
   ],
   "source": [
    "import numpy as np  #generar un array con una tupla\n",
    "\n",
    "arr = np.array((1, 2, 3, 4, 5))\n",
    "\n",
    "print(arr)"
   ]
  },
  {
   "cell_type": "markdown",
   "id": "d14d1c5a",
   "metadata": {},
   "source": [
    "Numpy Full np.full()"
   ]
  },
  {
   "cell_type": "code",
   "execution_count": 20,
   "id": "78f43d71",
   "metadata": {},
   "outputs": [
    {
     "name": "stdout",
     "output_type": "stream",
     "text": [
      "[7 7 7 7 7]\n"
     ]
    }
   ],
   "source": [
    "#numpy full  #np.full(shape, fill_value, dtype=None)\n",
    "full = np.full(5,7) #Array unidimensional (numero de elementos , valor de los elementos)\n",
    "print(full)"
   ]
  },
  {
   "cell_type": "code",
   "execution_count": 21,
   "id": "06e00045",
   "metadata": {},
   "outputs": [
    {
     "name": "stdout",
     "output_type": "stream",
     "text": [
      "[[8 8 8]\n",
      " [8 8 8]\n",
      " [8 8 8]\n",
      " [8 8 8]\n",
      " [8 8 8]]\n"
     ]
    }
   ],
   "source": [
    "full = np.full((5,3),8) #Crear una matriz ( (5 filas , 3 columnas ) valor de los elementos  )\n",
    "print(full)"
   ]
  },
  {
   "cell_type": "code",
   "execution_count": 22,
   "id": "9ea2309e",
   "metadata": {},
   "outputs": [
    {
     "name": "stdout",
     "output_type": "stream",
     "text": [
      "[['9' '9' '9']\n",
      " ['9' '9' '9']\n",
      " ['9' '9' '9']\n",
      " ['9' '9' '9']\n",
      " ['9' '9' '9']]\n",
      "[[10. 10. 10. 10. 10. 10. 10. 10. 10. 10.]\n",
      " [10. 10. 10. 10. 10. 10. 10. 10. 10. 10.]\n",
      " [10. 10. 10. 10. 10. 10. 10. 10. 10. 10.]\n",
      " [10. 10. 10. 10. 10. 10. 10. 10. 10. 10.]\n",
      " [10. 10. 10. 10. 10. 10. 10. 10. 10. 10.]\n",
      " [10. 10. 10. 10. 10. 10. 10. 10. 10. 10.]\n",
      " [10. 10. 10. 10. 10. 10. 10. 10. 10. 10.]\n",
      " [10. 10. 10. 10. 10. 10. 10. 10. 10. 10.]\n",
      " [10. 10. 10. 10. 10. 10. 10. 10. 10. 10.]\n",
      " [10. 10. 10. 10. 10. 10. 10. 10. 10. 10.]]\n"
     ]
    }
   ],
   "source": [
    "y = np.full((5,3),9,dtype=str) #asignar un tipo de dato a los objetos \n",
    "print(y)\n",
    "\n",
    "x = np.full((10,10),10,dtype=float)\n",
    "print(x)"
   ]
  },
  {
   "cell_type": "markdown",
   "id": "7ae2d347",
   "metadata": {},
   "source": [
    "np.eye() - Sirve para crear matrices de identidad\n",
    "Una matriz identidad es una matriz cuadrada con unos en la diagonal principal (de la esquina superior izquierda a la inferior derecha) y ceros en todas las demás posiciones\n",
    "Características principales     Matriz cuadrada: Debe tener el mismo número de filas y columnas.  Diagonal principal: Todos los elementos en la diagonal principal son igual a \\(1\\).  Resto de elementos: Todos los elementos que no están en la diagonal principal son igual a \\(0\\). \n"
   ]
  },
  {
   "cell_type": "code",
   "execution_count": 23,
   "id": "4c96e57c",
   "metadata": {},
   "outputs": [
    {
     "name": "stdout",
     "output_type": "stream",
     "text": [
      "[[1. 0. 0.]\n",
      " [0. 1. 0.]\n",
      " [0. 0. 1.]]\n"
     ]
    }
   ],
   "source": [
    "#matriz cuadrada\n",
    "e = np.eye(3)\n",
    "print(e)"
   ]
  },
  {
   "cell_type": "code",
   "execution_count": 24,
   "id": "ab39cca3",
   "metadata": {},
   "outputs": [
    {
     "name": "stdout",
     "output_type": "stream",
     "text": [
      "[[1. 0.]\n",
      " [0. 1.]\n",
      " [0. 0.]\n",
      " [0. 0.]\n",
      " [0. 0.]]\n"
     ]
    }
   ],
   "source": [
    "#matrix no cuadrada \n",
    "a = np.eye(5,2)\n",
    "print(a)"
   ]
  },
  {
   "cell_type": "markdown",
   "id": "3c1ed519",
   "metadata": {},
   "source": [
    "np.arange()\n",
    "permite generar secuencias fácilmente."
   ]
  },
  {
   "cell_type": "markdown",
   "id": "10e58121",
   "metadata": {},
   "source": [
    "np.arange(start, stop, step)\n"
   ]
  },
  {
   "cell_type": "code",
   "execution_count": 25,
   "id": "24c75970",
   "metadata": {},
   "outputs": [
    {
     "name": "stdout",
     "output_type": "stream",
     "text": [
      "[ 1  2  3  4  5  6  7  8  9 10]\n"
     ]
    }
   ],
   "source": [
    "n = np.arange(1,11) #(valor inicial, final)\n",
    "print(n)"
   ]
  },
  {
   "cell_type": "code",
   "execution_count": 26,
   "id": "7b26cbd2",
   "metadata": {},
   "outputs": [
    {
     "name": "stdout",
     "output_type": "stream",
     "text": [
      "[1 3 5 7 9]\n"
     ]
    }
   ],
   "source": [
    "a = np.arange(1,11,2) #(valor inicial,valor final, pasos)\n",
    "print(a)"
   ]
  },
  {
   "cell_type": "code",
   "execution_count": 27,
   "id": "51d2725d",
   "metadata": {},
   "outputs": [
    {
     "name": "stdout",
     "output_type": "stream",
     "text": [
      "[ 0  2  4  6  8 10]\n"
     ]
    }
   ],
   "source": [
    "\n",
    "n = np.arange(0, 11, 2)\n",
    "print(n)"
   ]
  },
  {
   "cell_type": "markdown",
   "id": "2d6360d7",
   "metadata": {},
   "source": [
    "np.linspace()"
   ]
  },
  {
   "cell_type": "markdown",
   "id": "85615e36",
   "metadata": {},
   "source": [
    "np.linspace(start, stop, num=50)\n"
   ]
  },
  {
   "cell_type": "markdown",
   "id": "ed3cd7e7",
   "metadata": {},
   "source": [
    "Parámetros principales:\n",
    "\n",
    "start: valor inicial (incluido).\n",
    "\n",
    "stop: valor final (incluido también, a diferencia de arange()).\n",
    "\n",
    "num: cantidad de valores que quieres generar (por defecto son 50)."
   ]
  },
  {
   "cell_type": "code",
   "execution_count": 28,
   "id": "ef3fc145",
   "metadata": {},
   "outputs": [
    {
     "name": "stdout",
     "output_type": "stream",
     "text": [
      "[ 0.   2.5  5.   7.5 10. ]\n",
      "[ 0.  4.  8. 12. 16. 20.]\n"
     ]
    }
   ],
   "source": [
    "g = np.linspace(0, 10, 5)\n",
    "print(g)\n",
    "\n",
    "s=np.linspace(0,20,6)\n",
    "print(s)"
   ]
  },
  {
   "cell_type": "markdown",
   "id": "3b1cbddc",
   "metadata": {},
   "source": [
    "# Crear Arrays Aleatorios\n",
    "🎲 np.random.rand()\n",
    "\n",
    "Crea un array con valores flotantes aleatorios entre 0 y 1.\n",
    "\n",
    "h = np.random.rand(2, 3)"
   ]
  },
  {
   "cell_type": "code",
   "execution_count": 29,
   "id": "bcd47d5b",
   "metadata": {},
   "outputs": [
    {
     "name": "stdout",
     "output_type": "stream",
     "text": [
      "[[0.60784311 0.56297329 0.19941226 0.27329062]\n",
      " [0.10719128 0.19650405 0.80954466 0.90966002]\n",
      " [0.50361675 0.5305342  0.13581378 0.93113002]\n",
      " [0.10220027 0.54192879 0.84094296 0.970502  ]\n",
      " [0.53956562 0.94251814 0.17671425 0.54179388]]\n"
     ]
    }
   ],
   "source": [
    "r = np.random.rand(5,4)\n",
    "print(r)"
   ]
  },
  {
   "cell_type": "markdown",
   "id": "24b2fabd",
   "metadata": {},
   "source": [
    "🎯 np.random.randint()\n",
    "\n",
    "Crea enteros aleatorios dentro de un rango."
   ]
  },
  {
   "cell_type": "markdown",
   "id": "b8a8f179",
   "metadata": {},
   "source": [
    "🧩 Sintaxis\n",
    "np.random.randint(low, high, size)\n",
    "\n",
    "Parámetro\tSignificado\n",
    "low\tvalor mínimo (incluido)\n",
    "high\tvalor máximo (no incluido)\n",
    "size\tforma o cantidad de números que quieres generar"
   ]
  },
  {
   "cell_type": "code",
   "execution_count": 35,
   "id": "c217bd84",
   "metadata": {},
   "outputs": [
    {
     "name": "stdout",
     "output_type": "stream",
     "text": [
      "nums aleatorios del 1 al 100, 5 veces : [11 17 57 52 21]\n",
      "nums aleatorios del 10 al 20, 10 veces : [10 12 19 10 14 19 15 17 13 11]\n"
     ]
    }
   ],
   "source": [
    "i = np.random.randint(1,100,5)\n",
    "print(f\"nums aleatorios del 1 al 100, 5 veces : {i}\")\n",
    "\n",
    "n = np.random.randint(10,20,10)\n",
    "print(f\"nums aleatorios del 10 al 20, 10 veces : {n}\")"
   ]
  },
  {
   "cell_type": "markdown",
   "id": "82294fb4",
   "metadata": {},
   "source": [
    "generar matrices con numeros aleatorios\n",
    "\n",
    "np.random.randit(desde, hasta, (filas,columnas))"
   ]
  },
  {
   "cell_type": "code",
   "execution_count": null,
   "id": "cc0c8a2e",
   "metadata": {},
   "outputs": [
    {
     "name": "stdout",
     "output_type": "stream",
     "text": [
      "[[4 3 2]\n",
      " [1 3 9]\n",
      " [3 1 3]]\n"
     ]
    }
   ],
   "source": [
    "x = np.random.randint(1, 10, (3, 3))    \n",
    "print(x)\n"
   ]
  }
 ],
 "metadata": {
  "kernelspec": {
   "display_name": "Python 3",
   "language": "python",
   "name": "python3"
  },
  "language_info": {
   "codemirror_mode": {
    "name": "ipython",
    "version": 3
   },
   "file_extension": ".py",
   "mimetype": "text/x-python",
   "name": "python",
   "nbconvert_exporter": "python",
   "pygments_lexer": "ipython3",
   "version": "3.13.9"
  }
 },
 "nbformat": 4,
 "nbformat_minor": 5
}
