{
 "cells": [
  {
   "cell_type": "code",
   "execution_count": 11,
   "id": "e39198a2",
   "metadata": {},
   "outputs": [
    {
     "name": "stdout",
     "output_type": "stream",
     "text": [
      "[1 2 3 4 5]\n"
     ]
    }
   ],
   "source": [
    "import numpy as np\n",
    "\n",
    "#Crear un Array\n",
    "arr = np.array([1, 2, 3, 4, 5])\n",
    "print(arr)\n"
   ]
  },
  {
   "cell_type": "code",
   "execution_count": 12,
   "id": "b2a91599",
   "metadata": {},
   "outputs": [
    {
     "name": "stdout",
     "output_type": "stream",
     "text": [
      "[0. 0. 0. 0. 0. 0. 0. 0. 0. 0.]\n"
     ]
    }
   ],
   "source": [
    "\n",
    "#Crear un Array con ceros y unos \n",
    "zeros = np.zeros(10) #el parametro son el numero de ceros que tendra\n",
    "print(zeros)"
   ]
  },
  {
   "cell_type": "markdown",
   "id": "a92a27cf",
   "metadata": {},
   "source": [
    "Para generar una matriz se usa ((filas,columnas))"
   ]
  },
  {
   "cell_type": "code",
   "execution_count": 13,
   "id": "3b6de755",
   "metadata": {},
   "outputs": [
    {
     "name": "stdout",
     "output_type": "stream",
     "text": [
      "\n",
      " matriz de unos:[[1. 1. 1.]\n",
      " [1. 1. 1.]]\n",
      "\n",
      " matriz de ceros:[[0. 0. 0.]\n",
      " [0. 0. 0.]\n",
      " [0. 0. 0.]]\n"
     ]
    }
   ],
   "source": [
    "#Crear Matrices\n",
    "ones = np.ones((2, 3))  #ones es para generar solo el numero uno\n",
    "zeros = np.zeros((3,3)) #matriz de 3x3\n",
    "print(f\"\\n matriz de unos:{ones}\")\n",
    "print(f\"\\n matriz de ceros:{zeros}\")\n"
   ]
  },
  {
   "cell_type": "code",
   "execution_count": 14,
   "id": "971a1068",
   "metadata": {},
   "outputs": [
    {
     "name": "stdout",
     "output_type": "stream",
     "text": [
      "[1 2 3 4 5]\n"
     ]
    }
   ],
   "source": [
    "import numpy as np  #generar un array con una tupla\n",
    "\n",
    "arr = np.array((1, 2, 3, 4, 5))\n",
    "\n",
    "print(arr)"
   ]
  },
  {
   "cell_type": "markdown",
   "id": "d14d1c5a",
   "metadata": {},
   "source": [
    "Numpy Full np.full()"
   ]
  },
  {
   "cell_type": "code",
   "execution_count": 15,
   "id": "78f43d71",
   "metadata": {},
   "outputs": [
    {
     "name": "stdout",
     "output_type": "stream",
     "text": [
      "[7 7 7 7 7]\n"
     ]
    }
   ],
   "source": [
    "#numpy full  #np.full(shape, fill_value, dtype=None)\n",
    "full = np.full(5,7) #Array unidimensional (numero de elementos , valor de los elementos)\n",
    "print(full)"
   ]
  },
  {
   "cell_type": "code",
   "execution_count": 16,
   "id": "06e00045",
   "metadata": {},
   "outputs": [
    {
     "name": "stdout",
     "output_type": "stream",
     "text": [
      "[[8 8 8]\n",
      " [8 8 8]\n",
      " [8 8 8]\n",
      " [8 8 8]\n",
      " [8 8 8]]\n"
     ]
    }
   ],
   "source": [
    "full = np.full((5,3),8) #Crear una matriz ( (5 filas , 3 columnas ) valor de los elementos  )\n",
    "print(full)"
   ]
  },
  {
   "cell_type": "code",
   "execution_count": 17,
   "id": "9ea2309e",
   "metadata": {},
   "outputs": [
    {
     "name": "stdout",
     "output_type": "stream",
     "text": [
      "[['9' '9' '9']\n",
      " ['9' '9' '9']\n",
      " ['9' '9' '9']\n",
      " ['9' '9' '9']\n",
      " ['9' '9' '9']]\n",
      "[[10. 10. 10. 10. 10. 10. 10. 10. 10. 10.]\n",
      " [10. 10. 10. 10. 10. 10. 10. 10. 10. 10.]\n",
      " [10. 10. 10. 10. 10. 10. 10. 10. 10. 10.]\n",
      " [10. 10. 10. 10. 10. 10. 10. 10. 10. 10.]\n",
      " [10. 10. 10. 10. 10. 10. 10. 10. 10. 10.]\n",
      " [10. 10. 10. 10. 10. 10. 10. 10. 10. 10.]\n",
      " [10. 10. 10. 10. 10. 10. 10. 10. 10. 10.]\n",
      " [10. 10. 10. 10. 10. 10. 10. 10. 10. 10.]\n",
      " [10. 10. 10. 10. 10. 10. 10. 10. 10. 10.]\n",
      " [10. 10. 10. 10. 10. 10. 10. 10. 10. 10.]]\n"
     ]
    }
   ],
   "source": [
    "y = np.full((5,3),9,dtype=str) #asignar un tipo de dato a los objetos \n",
    "print(y)\n",
    "\n",
    "x = np.full((10,10),10,dtype=float)\n",
    "print(x)"
   ]
  },
  {
   "cell_type": "markdown",
   "id": "7ae2d347",
   "metadata": {},
   "source": [
    "np.eye() - Sirve para crear matrices de identidad\n",
    "Una matriz identidad es una matriz cuadrada con unos en la diagonal principal (de la esquina superior izquierda a la inferior derecha) y ceros en todas las demás posiciones\n",
    "Características principales     Matriz cuadrada: Debe tener el mismo número de filas y columnas.  Diagonal principal: Todos los elementos en la diagonal principal son igual a \\(1\\).  Resto de elementos: Todos los elementos que no están en la diagonal principal son igual a \\(0\\). \n"
   ]
  },
  {
   "cell_type": "code",
   "execution_count": null,
   "id": "4c96e57c",
   "metadata": {},
   "outputs": [
    {
     "name": "stdout",
     "output_type": "stream",
     "text": [
      "[[1. 0. 0.]\n",
      " [0. 1. 0.]\n",
      " [0. 0. 1.]]\n"
     ]
    }
   ],
   "source": [
    "#matriz cuadrada\n",
    "e = np.eye(3)\n",
    "print(e)"
   ]
  },
  {
   "cell_type": "code",
   "execution_count": null,
   "id": "ab39cca3",
   "metadata": {},
   "outputs": [],
   "source": [
    "#matrix no cuadrada \n",
    "a = np.eye(5,2)\n",
    "print(a)"
   ]
  }
 ],
 "metadata": {
  "kernelspec": {
   "display_name": "Python 3",
   "language": "python",
   "name": "python3"
  },
  "language_info": {
   "codemirror_mode": {
    "name": "ipython",
    "version": 3
   },
   "file_extension": ".py",
   "mimetype": "text/x-python",
   "name": "python",
   "nbconvert_exporter": "python",
   "pygments_lexer": "ipython3",
   "version": "3.13.7"
  }
 },
 "nbformat": 4,
 "nbformat_minor": 5
}
