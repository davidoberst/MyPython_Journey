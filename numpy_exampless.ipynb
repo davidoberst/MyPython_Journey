{
 "cells": [
  {
   "cell_type": "markdown",
   "id": "4285ab9f",
   "metadata": {},
   "source": []
  },
  {
   "cell_type": "code",
   "execution_count": 2,
   "id": "e39198a2",
   "metadata": {},
   "outputs": [
    {
     "name": "stdout",
     "output_type": "stream",
     "text": [
      "[1 2 3 4 5]\n"
     ]
    }
   ],
   "source": [
    "import numpy as np\n",
    "\n",
    "#Crear un Array\n",
    "arr = np.array([1, 2, 3, 4, 5])\n",
    "print(arr)\n"
   ]
  },
  {
   "cell_type": "code",
   "execution_count": null,
   "id": "b2a91599",
   "metadata": {},
   "outputs": [],
   "source": [
    "\n"
   ]
  },
  {
   "cell_type": "markdown",
   "id": "a92a27cf",
   "metadata": {},
   "source": [
    "Para generar una matriz se usa ((filas,columnas))"
   ]
  },
  {
   "cell_type": "code",
   "execution_count": 3,
   "id": "3b6de755",
   "metadata": {},
   "outputs": [
    {
     "name": "stdout",
     "output_type": "stream",
     "text": [
      "\n",
      " matriz de unos:[[1. 1. 1.]\n",
      " [1. 1. 1.]]\n",
      "\n",
      " matriz de ceros:[[0. 0. 0.]\n",
      " [0. 0. 0.]\n",
      " [0. 0. 0.]]\n"
     ]
    }
   ],
   "source": [
    "#Crear Matrices\n",
    "ones = np.ones((2, 3))  #ones es para generar solo el numero uno\n",
    "zeros = np.zeros((3,3)) #matriz de 3x3\n",
    "print(f\"\\n matriz de unos:{ones}\")\n",
    "print(f\"\\n matriz de ceros:{zeros}\")\n"
   ]
  },
  {
   "cell_type": "code",
   "execution_count": 4,
   "id": "971a1068",
   "metadata": {},
   "outputs": [
    {
     "name": "stdout",
     "output_type": "stream",
     "text": [
      "[1 2 3 4 5]\n"
     ]
    }
   ],
   "source": [
    "import numpy as np  #generar un array con una tupla\n",
    "\n",
    "arr = np.array((1, 2, 3, 4, 5))\n",
    "\n",
    "print(arr)"
   ]
  },
  {
   "cell_type": "markdown",
   "id": "d14d1c5a",
   "metadata": {},
   "source": [
    "Numpy Full np.full()"
   ]
  },
  {
   "cell_type": "code",
   "execution_count": 5,
   "id": "78f43d71",
   "metadata": {},
   "outputs": [
    {
     "name": "stdout",
     "output_type": "stream",
     "text": [
      "[7 7 7 7 7]\n"
     ]
    }
   ],
   "source": [
    "#numpy full  #np.full(shape, fill_value, dtype=None)\n",
    "full = np.full(5,7) #Array unidimensional (numero de elementos , valor de los elementos)\n",
    "print(full)"
   ]
  },
  {
   "cell_type": "code",
   "execution_count": 6,
   "id": "06e00045",
   "metadata": {},
   "outputs": [
    {
     "name": "stdout",
     "output_type": "stream",
     "text": [
      "[[8 8 8]\n",
      " [8 8 8]\n",
      " [8 8 8]\n",
      " [8 8 8]\n",
      " [8 8 8]]\n"
     ]
    }
   ],
   "source": [
    "full = np.full((5,3),8) \n",
    "print(full)"
   ]
  },
  {
   "cell_type": "code",
   "execution_count": 7,
   "id": "9ea2309e",
   "metadata": {},
   "outputs": [
    {
     "name": "stdout",
     "output_type": "stream",
     "text": [
      "[['9' '9' '9']\n",
      " ['9' '9' '9']\n",
      " ['9' '9' '9']\n",
      " ['9' '9' '9']\n",
      " ['9' '9' '9']]\n",
      "[[10. 10. 10. 10. 10. 10. 10. 10. 10. 10.]\n",
      " [10. 10. 10. 10. 10. 10. 10. 10. 10. 10.]\n",
      " [10. 10. 10. 10. 10. 10. 10. 10. 10. 10.]\n",
      " [10. 10. 10. 10. 10. 10. 10. 10. 10. 10.]\n",
      " [10. 10. 10. 10. 10. 10. 10. 10. 10. 10.]\n",
      " [10. 10. 10. 10. 10. 10. 10. 10. 10. 10.]\n",
      " [10. 10. 10. 10. 10. 10. 10. 10. 10. 10.]\n",
      " [10. 10. 10. 10. 10. 10. 10. 10. 10. 10.]\n",
      " [10. 10. 10. 10. 10. 10. 10. 10. 10. 10.]\n",
      " [10. 10. 10. 10. 10. 10. 10. 10. 10. 10.]]\n"
     ]
    }
   ],
   "source": [
    "y = np.full((5,3),9,dtype=str) #asignar un tipo de dato a los objetos \n",
    "print(y)\n",
    "\n",
    "x = np.full((10,10),10,dtype=float)\n",
    "print(x)"
   ]
  },
  {
   "cell_type": "markdown",
   "id": "7ae2d347",
   "metadata": {},
   "source": [
    "np.eye() - Sirve para crear matrices de identidad\n",
    "Una matriz identidad es una matriz cuadrada con unos en la diagonal principal (de la esquina superior izquierda a la inferior derecha) y ceros en todas las demás posiciones\n",
    "Características principales     Matriz cuadrada: Debe tener el mismo número de filas y columnas.  Diagonal principal: Todos los elementos en la diagonal principal son igual a \\(1\\).  Resto de elementos: Todos los elementos que no están en la diagonal principal son igual a \\(0\\). \n"
   ]
  },
  {
   "cell_type": "code",
   "execution_count": 8,
   "id": "4c96e57c",
   "metadata": {},
   "outputs": [
    {
     "name": "stdout",
     "output_type": "stream",
     "text": [
      "[[1. 0. 0.]\n",
      " [0. 1. 0.]\n",
      " [0. 0. 1.]]\n"
     ]
    }
   ],
   "source": [
    "#matriz cuadrada\n",
    "e = np.eye(3)\n",
    "print(e)"
   ]
  },
  {
   "cell_type": "code",
   "execution_count": 9,
   "id": "ab39cca3",
   "metadata": {},
   "outputs": [
    {
     "name": "stdout",
     "output_type": "stream",
     "text": [
      "[[1. 0.]\n",
      " [0. 1.]\n",
      " [0. 0.]\n",
      " [0. 0.]\n",
      " [0. 0.]]\n"
     ]
    }
   ],
   "source": [
    "#matrix no cuadrada \n",
    "a = np.eye(5,2)\n",
    "print(a)"
   ]
  },
  {
   "cell_type": "markdown",
   "id": "3c1ed519",
   "metadata": {},
   "source": [
    "np.arange()\n",
    "permite generar secuencias fácilmente."
   ]
  },
  {
   "cell_type": "markdown",
   "id": "10e58121",
   "metadata": {},
   "source": [
    "np.arange(start, stop, step)\n"
   ]
  },
  {
   "cell_type": "code",
   "execution_count": 10,
   "id": "24c75970",
   "metadata": {},
   "outputs": [
    {
     "name": "stdout",
     "output_type": "stream",
     "text": [
      "[ 1  2  3  4  5  6  7  8  9 10]\n"
     ]
    }
   ],
   "source": [
    "a = np.arange(1,11)\n",
    "print(a)\n"
   ]
  },
  {
   "cell_type": "code",
   "execution_count": 11,
   "id": "7b26cbd2",
   "metadata": {},
   "outputs": [
    {
     "name": "stdout",
     "output_type": "stream",
     "text": [
      "[1 3 5 7 9]\n"
     ]
    }
   ],
   "source": [
    "a = np.arange(1,11,2) #(valor inicial,valor final, pasos)\n",
    "print(a)"
   ]
  },
  {
   "cell_type": "code",
   "execution_count": 12,
   "id": "51d2725d",
   "metadata": {},
   "outputs": [
    {
     "name": "stdout",
     "output_type": "stream",
     "text": [
      "[ 0  2  4  6  8 10]\n"
     ]
    }
   ],
   "source": [
    "\n",
    "n = np.arange(0, 11, 2)\n",
    "print(n)"
   ]
  },
  {
   "cell_type": "markdown",
   "id": "2d6360d7",
   "metadata": {},
   "source": [
    "np.linspace()"
   ]
  },
  {
   "cell_type": "markdown",
   "id": "85615e36",
   "metadata": {},
   "source": [
    "np.linspace(start, stop, num=50)\n"
   ]
  },
  {
   "cell_type": "markdown",
   "id": "ed3cd7e7",
   "metadata": {},
   "source": [
    "Parámetros principales:\n",
    "\n",
    "start: valor inicial (incluido).\n",
    "\n",
    "stop: valor final (incluido también, a diferencia de arange()).\n",
    "\n",
    "num: cantidad de valores que quieres generar (por defecto son 50)."
   ]
  },
  {
   "cell_type": "code",
   "execution_count": 13,
   "id": "ef3fc145",
   "metadata": {},
   "outputs": [
    {
     "name": "stdout",
     "output_type": "stream",
     "text": [
      "[ 0.   2.5  5.   7.5 10. ]\n",
      "[ 0.  4.  8. 12. 16. 20.]\n"
     ]
    }
   ],
   "source": [
    "#np.linspace(inicio, fin, cantidad)\n",
    "g = np.linspace(0, 10, 5)\n",
    "print(g)\n",
    "\n",
    "s=np.linspace(0,20,6)\n",
    "print(s)"
   ]
  },
  {
   "cell_type": "markdown",
   "id": "3b1cbddc",
   "metadata": {},
   "source": [
    "# Crear Arrays Aleatorios\n",
    "🎲 np.random.rand()\n",
    "\n",
    "Crea un array con valores flotantes aleatorios entre 0 y 1.\n",
    "\n",
    "h = np.random.rand(2, 3)"
   ]
  },
  {
   "cell_type": "code",
   "execution_count": 14,
   "id": "bcd47d5b",
   "metadata": {},
   "outputs": [
    {
     "name": "stdout",
     "output_type": "stream",
     "text": [
      "[[0.21074712 0.66195514 0.92362243 0.15478254]\n",
      " [0.83678836 0.49628198 0.91625394 0.30431562]\n",
      " [0.90323622 0.27031026 0.58884619 0.09074238]\n",
      " [0.6238361  0.0168104  0.24849763 0.66147698]\n",
      " [0.60220955 0.61027225 0.96468007 0.56688149]]\n"
     ]
    }
   ],
   "source": [
    "r = np.random.rand(5,4)\n",
    "print(r)"
   ]
  },
  {
   "cell_type": "markdown",
   "id": "24b2fabd",
   "metadata": {},
   "source": [
    "🎯 np.random.randint()\n",
    "\n",
    "Crea enteros aleatorios dentro de un rango."
   ]
  },
  {
   "cell_type": "markdown",
   "id": "b8a8f179",
   "metadata": {},
   "source": [
    "🧩 Sintaxis\n",
    "np.random.randint(low, high, size)\n",
    "\n",
    "Parámetro\tSignificado\n",
    "low\tvalor mínimo (incluido)\n",
    "high\tvalor máximo (no incluido)\n",
    "size\tforma o cantidad de números que quieres generar"
   ]
  },
  {
   "cell_type": "code",
   "execution_count": 15,
   "id": "c217bd84",
   "metadata": {},
   "outputs": [
    {
     "name": "stdout",
     "output_type": "stream",
     "text": [
      "nums aleatorios del 1 al 100, 5 veces : [11 37 12 47 37]\n",
      "nums aleatorios del 10 al 20, 10 veces : [11 17 18 10 16 18 12 10 11 10]\n"
     ]
    }
   ],
   "source": [
    "i = np.random.randint(1,100,5)\n",
    "print(f\"nums aleatorios del 1 al 100, 5 veces : {i}\")\n",
    "\n",
    "n = np.random.randint(10,20,10)\n",
    "print(f\"nums aleatorios del 10 al 20, 10 veces : {n}\")"
   ]
  },
  {
   "cell_type": "markdown",
   "id": "82294fb4",
   "metadata": {},
   "source": [
    "generar matrices con numeros aleatorios\n",
    "\n",
    "np.random.randit(desde, hasta, (filas,columnas))"
   ]
  },
  {
   "cell_type": "code",
   "execution_count": 16,
   "id": "cc0c8a2e",
   "metadata": {},
   "outputs": [
    {
     "name": "stdout",
     "output_type": "stream",
     "text": [
      "[[8 8 9]\n",
      " [3 5 3]\n",
      " [1 8 4]]\n"
     ]
    }
   ],
   "source": [
    "x = np.random.randint(1, 10, (3, 3))    \n",
    "print(x)\n"
   ]
  },
  {
   "cell_type": "markdown",
   "id": "68da2065",
   "metadata": {},
   "source": [
    "#⚙️ 6. Convertir el tipo de datos (dtype)\n",
    "Puedes cambiar el tipo de un array."
   ]
  },
  {
   "cell_type": "markdown",
   "id": "3cc524dc",
   "metadata": {},
   "source": [
    "print(a.astype(dtype))"
   ]
  },
  {
   "cell_type": "code",
   "execution_count": 17,
   "id": "e81cfa59",
   "metadata": {},
   "outputs": [
    {
     "name": "stdout",
     "output_type": "stream",
     "text": [
      "[2 3]\n",
      "['2' '3']\n",
      "[2. 3.]\n"
     ]
    }
   ],
   "source": [
    "a = np.array((2,3))\n",
    "print(a.astype(int))\n",
    "print(a.astype(str))\n",
    "print(a.astype(float))\n"
   ]
  },
  {
   "cell_type": "markdown",
   "id": "6d0c6d34",
   "metadata": {},
   "source": [
    "#reshape()\n",
    "np.reshape() sirve para cambiar la forma (shape) de un array sin modificar sus datos.\n",
    "\n",
    "Es decir, reorganiza los mismos valores en una nueva estructura (más filas, más columnas, etc.), pero sin alterar el contenido.\n",
    "\n",
    "🧩 Sintaxis\n",
    "np.reshape(array, new_shape)"
   ]
  },
  {
   "cell_type": "code",
   "execution_count": 18,
   "id": "aa04f3d8",
   "metadata": {},
   "outputs": [
    {
     "ename": "NameError",
     "evalue": "name 'k' is not defined",
     "output_type": "error",
     "traceback": [
      "\u001b[31m---------------------------------------------------------------------------\u001b[39m",
      "\u001b[31mNameError\u001b[39m                                 Traceback (most recent call last)",
      "\u001b[36mCell\u001b[39m\u001b[36m \u001b[39m\u001b[32mIn[18]\u001b[39m\u001b[32m, line 2\u001b[39m\n\u001b[32m      1\u001b[39m n\n\u001b[32m----> \u001b[39m\u001b[32m2\u001b[39m \u001b[38;5;28mprint\u001b[39m(\u001b[43mk\u001b[49m.reshape(\u001b[32m3\u001b[39m, \u001b[32m4\u001b[39m))\n",
      "\u001b[31mNameError\u001b[39m: name 'k' is not defined"
     ]
    }
   ],
   "source": [
    "n\n",
    "print(k.reshape(3, 4))"
   ]
  },
  {
   "cell_type": "code",
   "execution_count": null,
   "id": "0f107df3",
   "metadata": {},
   "outputs": [
    {
     "name": "stdout",
     "output_type": "stream",
     "text": [
      "[[ 1  2  3  4  5]\n",
      " [ 6  7  8  9 10]]\n"
     ]
    }
   ],
   "source": [
    "s = np.array([1,2,3,4,5,6,7,8,9,10])\n",
    "print((s.reshape(2,5))) #(numero de filas, numero de columnas)"
   ]
  },
  {
   "cell_type": "markdown",
   "id": "fa8800a1",
   "metadata": {},
   "source": [
    "# Parte 2 : Propiedades de los Arrays"
   ]
  },
  {
   "cell_type": "markdown",
   "id": "436f9143",
   "metadata": {},
   "source": [
    "Aprenderás a inspeccionar y entender un array:\n",
    "su forma, dimensiones, tamaño, tipo de datos y más.\n",
    "\n",
    "Estas propiedades te ayudarán a:\n",
    "\n",
    "Saber si tu matriz tiene la forma correcta antes de operar.\n",
    "\n",
    "Ver cuántos elementos hay.\n",
    "\n",
    "Confirmar el tipo de datos con el que estás trabajando."
   ]
  },
  {
   "cell_type": "code",
   "execution_count": null,
   "id": "c28841cb",
   "metadata": {},
   "outputs": [
    {
     "name": "stdout",
     "output_type": "stream",
     "text": [
      "(2, 3)\n",
      "(3, 2)\n",
      "numero de dimensiones : 2\n",
      "numero total de elementos 6\n",
      "tipo de datos que contiene : int64\n",
      "tipo de data de arr2 : float64\n",
      "tamaño de bytes de cada elemento : 8 \n",
      "tamaño total dela rray en la memoria : 48\n",
      "[[1 3 5]\n",
      " [2 4 6]]\n",
      "[[ 0  1  2  3]\n",
      " [ 4  5  6  7]\n",
      " [ 8  9 10 11]]\n"
     ]
    }
   ],
   "source": [
    "# 1.   shape() --ver la forma de un array\n",
    "\n",
    "arr = np.array([[1,2,3],\n",
    "                [4,5,6]])\n",
    "print(arr.shape)\n",
    "\n",
    "\n",
    "#el resultad sera (2,3) significa 2 filas y 3 columnas\n",
    "\n",
    "\n",
    "# 2.  tambien se puede cambiar esto con .reshape()\n",
    "\n",
    "arr = arr.reshape(3,2)\n",
    "print(arr.shape) \n",
    "\n",
    "\n",
    "#3. ndim --- numero de dimensiones Muestra cuántas dimensiones tiene el array (vector, matriz, tensor, etc).\n",
    "print(f\"numero de dimensiones : {arr.ndim}\")\n",
    "\n",
    "\n",
    "#size() --- devuelve el numero total de elementos \n",
    "print(f\"numero total de elementos {arr.size}\")\n",
    "\n",
    "\n",
    "#dtype() tipo de datos de los elementos \n",
    "print(f\"tipo de datos que contiene : {arr.dtype}\")\n",
    "#se puede crear un array con un tipo de dato especifico\n",
    "arr2 = np.arange(1,10,dtype=float)\n",
    "print(f\"tipo de data de arr2 : {arr2.dtype}\")\n",
    "\n",
    "\n",
    "#itemsize — tamaño en bytes de cada elemento \n",
    "print(f\"tamaño de bytes de cada elemento : {arr.itemsize} \")\n",
    "\n",
    "#nbytes — tamaño total en memoria\n",
    "print(f\"tamaño total dela rray en la memoria : {arr.nbytes}\")\n",
    "\n",
    "\n",
    "#T — transpuesta (para matrices 2D) ---- Invierte filas por columnas.\n",
    "print(arr.T)\n",
    "\n",
    "#reshape --- Reorganiza los datos, sin cambiarlos.\n",
    "arr3 = np.arange(12)\n",
    "print(arr3.reshape(3,4)) #el resultado es el array ordenado de 0 a 11 con 3 filas de 4 elementos\n",
    "\n",
    "\n"
   ]
  },
  {
   "cell_type": "markdown",
   "id": "08c09629",
   "metadata": {},
   "source": [
    "# NIVEL 3 — INDEXADO Y SLICING EN NUMPY"
   ]
  },
  {
   "cell_type": "markdown",
   "id": "fbd269d0",
   "metadata": {},
   "source": [
    "1. Acceder a elementos individuales"
   ]
  },
  {
   "cell_type": "code",
   "execution_count": null,
   "id": "588f3516",
   "metadata": {},
   "outputs": [
    {
     "name": "stdout",
     "output_type": "stream",
     "text": [
      "6\n",
      "10\n",
      "20\n",
      "30\n",
      "60\n"
     ]
    }
   ],
   "source": [
    "arra = np.array([10,20,30,40,50,60])\n",
    "print(arra.size)\n",
    "print(arra[0])\n",
    "print(arra[1])\n",
    "print(arra[2])\n",
    "print(arra[-1]) #ultimo elemento\n",
    "\n"
   ]
  },
  {
   "cell_type": "code",
   "execution_count": null,
   "id": "0fb87f3a",
   "metadata": {},
   "outputs": [
    {
     "name": "stdout",
     "output_type": "stream",
     "text": [
      "99\n",
      "[99  2  3  4  5]\n"
     ]
    }
   ],
   "source": [
    "#modificar elementos\n",
    "arr[0] = 99\n",
    "print(arr[0])\n",
    "print(arr)"
   ]
  },
  {
   "cell_type": "code",
   "execution_count": null,
   "id": "fe9a20f8",
   "metadata": {},
   "outputs": [
    {
     "name": "stdout",
     "output_type": "stream",
     "text": [
      "[99  2  3  4  5]\n",
      "[2 3 4 5]\n",
      "[99  2  3]\n",
      "[3 4 5]\n",
      "[99  3  5]\n"
     ]
    }
   ],
   "source": [
    "#Slicing en Arrays\n",
    "print(arr)\n",
    "print(arr[1:5]) # del indice 1 al 5\n",
    "print(arr[:3])     # desde el inicio hasta el índice 2\n",
    "print(arr[2:])     # desde el índice 2 hasta el final\n",
    "print(arr[::2])    # de 2 en 2\n"
   ]
  },
  {
   "cell_type": "code",
   "execution_count": null,
   "id": "0ad9a17a",
   "metadata": {},
   "outputs": [
    {
     "name": "stdout",
     "output_type": "stream",
     "text": [
      "[[1 2 3]\n",
      " [4 5 6]\n",
      " [7 8 9]]\n",
      "4\n",
      "1\n",
      "6\n",
      "9\n"
     ]
    }
   ],
   "source": [
    "#indexado en matrices  #  mtrz[fila, columna]\n",
    "mtrz = np.array([[1,2,3],\n",
    "                [4,5,6],\n",
    "                [7,8,9]])\n",
    "print(mtrz)\n",
    "\n",
    "print(mtrz[1,0]) \n",
    "print(mtrz[0, 0])  # fila 0, columna 0\n",
    "print(mtrz[1, 2])  # fila 1, columna 2\n",
    "print(mtrz[-1, -1])# último elemento"
   ]
  },
  {
   "cell_type": "code",
   "execution_count": null,
   "id": "c927ce6b",
   "metadata": {},
   "outputs": [
    {
     "name": "stdout",
     "output_type": "stream",
     "text": [
      "[[2 3]\n",
      " [5 6]]\n"
     ]
    }
   ],
   "source": [
    "#Slicing en 2D\n",
    "print(mtrz[0:2, 1:3])"
   ]
  },
  {
   "cell_type": "code",
   "execution_count": null,
   "id": "8a9e5ad9",
   "metadata": {},
   "outputs": [
    {
     "name": "stdout",
     "output_type": "stream",
     "text": [
      "[[0 0 3]\n",
      " [0 0 6]\n",
      " [7 8 9]]\n"
     ]
    }
   ],
   "source": [
    "mtrz = np.array([[1,2,3],\n",
    "                [4,5,6],\n",
    "                [7,8,9]])\n",
    "\n",
    "mtrz[0:2, 0:2] = 0\n",
    "print(mtrz)"
   ]
  },
  {
   "cell_type": "code",
   "execution_count": 24,
   "id": "02c322f0",
   "metadata": {},
   "outputs": [
    {
     "name": "stdout",
     "output_type": "stream",
     "text": [
      "[ 1 88  3  4  5]\n"
     ]
    }
   ],
   "source": [
    "#Copias vs Vistas\n",
    "\n",
    "a = np.array([1, 2, 3, 4, 5])\n",
    "b = a[1:4]  # esto NO crea una copia, solo una \"vista\"\n",
    "b[0] = 88\n",
    "print(a)"
   ]
  },
  {
   "cell_type": "code",
   "execution_count": 25,
   "id": "66f544e5",
   "metadata": {},
   "outputs": [
    {
     "name": "stdout",
     "output_type": "stream",
     "text": [
      "[10 30 50]\n"
     ]
    }
   ],
   "source": [
    "#indexado con listas de indices\n",
    "arr = np.array([10, 20, 30, 40, 50])\n",
    "indices = [0, 2, 4]\n",
    "print(arr[indices])"
   ]
  }
 ],
 "metadata": {
  "kernelspec": {
   "display_name": "Python 3",
   "language": "python",
   "name": "python3"
  },
  "language_info": {
   "codemirror_mode": {
    "name": "ipython",
    "version": 3
   },
   "file_extension": ".py",
   "mimetype": "text/x-python",
   "name": "python",
   "nbconvert_exporter": "python",
   "pygments_lexer": "ipython3",
   "version": "3.13.7"
  }
 },
 "nbformat": 4,
 "nbformat_minor": 5
}
